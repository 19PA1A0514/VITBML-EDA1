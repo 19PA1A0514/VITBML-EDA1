{
  "nbformat": 4,
  "nbformat_minor": 0,
  "metadata": {
    "colab": {
      "name": "CONQUERORS.ipynb",
      "provenance": [],
      "authorship_tag": "ABX9TyPNx1UMReOrONHxgE7i8L0+",
      "include_colab_link": true
    },
    "kernelspec": {
      "name": "python3",
      "display_name": "Python 3"
    }
  },
  "cells": [
    {
      "cell_type": "markdown",
      "metadata": {
        "id": "view-in-github",
        "colab_type": "text"
      },
      "source": [
        "<a href=\"https://colab.research.google.com/github/19PA1A0514/VITBML-EDA1/blob/master/CONQUERORS.ipynb\" target=\"_parent\"><img src=\"https://colab.research.google.com/assets/colab-badge.svg\" alt=\"Open In Colab\"/></a>"
      ]
    },
    {
      "cell_type": "markdown",
      "metadata": {
        "id": "nhbH3Tx7hngT",
        "colab_type": "text"
      },
      "source": [
        "# **WINE REVIEWS**"
      ]
    },
    {
      "cell_type": "markdown",
      "metadata": {
        "id": "yN5bBsENh8tU",
        "colab_type": "text"
      },
      "source": [
        "**WINE means WINE REVIEW DATA imported from \"kaggle.com/datasets\"\n",
        "pd-this variable is imported for pandas package... other key words are described in their particular cells... we are going to apply pandas operations for analysis**"
      ]
    },
    {
      "cell_type": "markdown",
      "metadata": {
        "id": "tcXwwX8MiGkL",
        "colab_type": "text"
      },
      "source": [
        "**Questions to be asked to understand the data?**\n",
        "1.WHAT ARE THE DATATYPES IN DATA?\n",
        "\n",
        "2.ARE NAN VALUES ARE PRESENT IN EACH COLOUMN?\n",
        "\n",
        "3.CAN I PLOT A HISTOGRAM WITH A COLOUMNS IN THE DATA?\n",
        "\n",
        "4.WHAT ARE THE DIFFERENT PACKAGES IMPORTED ?\n",
        "\n",
        "5.WHAT IS THE SIZE OF DATA SET?\n",
        "\n",
        "6.HOW THE DATA ANALYZATION IS PROCEDEED?"
      ]
    },
    {
      "cell_type": "markdown",
      "metadata": {
        "id": "GjL6U-uSiV2E",
        "colab_type": "text"
      },
      "source": [
        "# Pandas DataFrame"
      ]
    },
    {
      "cell_type": "code",
      "metadata": {
        "id": "iUEgGZxQiYfH",
        "colab_type": "code",
        "colab": {}
      },
      "source": [
        "# import pandas\n",
        "import pandas as pd\n"
      ],
      "execution_count": 0,
      "outputs": []
    },
    {
      "cell_type": "markdown",
      "metadata": {
        "id": "jHCUC19EifN0",
        "colab_type": "text"
      },
      "source": [
        "# PRELIMINARY DATA ANALYSIS"
      ]
    },
    {
      "cell_type": "markdown",
      "metadata": {
        "id": "uDy06Efrjq3I",
        "colab_type": "text"
      },
      "source": [
        ""
      ]
    },
    {
      "cell_type": "code",
      "metadata": {
        "id": "-S0C_vS_jsgZ",
        "colab_type": "code",
        "colab": {}
      },
      "source": [
        ""
      ],
      "execution_count": 0,
      "outputs": []
    },
    {
      "cell_type": "markdown",
      "metadata": {
        "id": "Ty3Xe6FWdFe_",
        "colab_type": "text"
      },
      "source": [
        "## **Reading data**"
      ]
    },
    {
      "cell_type": "code",
      "metadata": {
        "id": "qMxl78Dfjt9O",
        "colab_type": "code",
        "colab": {}
      },
      "source": [
        ""
      ],
      "execution_count": 0,
      "outputs": []
    },
    {
      "cell_type": "code",
      "metadata": {
        "id": "kH9FZ_xMdFfA",
        "colab_type": "code",
        "colab": {}
      },
      "source": [
        "# Read data from file\n",
        "wine=pd.read_csv('winemag-data-130k-v2.csv')\n"
      ],
      "execution_count": 0,
      "outputs": []
    },
    {
      "cell_type": "code",
      "metadata": {
        "id": "DVq-KolwkauH",
        "colab_type": "code",
        "colab": {
          "base_uri": "https://localhost:8080/",
          "height": 1000
        },
        "outputId": "3a8bf6aa-99f9-4c05-f179-3a59d32fa8d8"
      },
      "source": [
        "wine"
      ],
      "execution_count": 25,
      "outputs": [
        {
          "output_type": "execute_result",
          "data": {
            "text/html": [
              "<div>\n",
              "<style scoped>\n",
              "    .dataframe tbody tr th:only-of-type {\n",
              "        vertical-align: middle;\n",
              "    }\n",
              "\n",
              "    .dataframe tbody tr th {\n",
              "        vertical-align: top;\n",
              "    }\n",
              "\n",
              "    .dataframe thead th {\n",
              "        text-align: right;\n",
              "    }\n",
              "</style>\n",
              "<table border=\"1\" class=\"dataframe\">\n",
              "  <thead>\n",
              "    <tr style=\"text-align: right;\">\n",
              "      <th></th>\n",
              "      <th>Unnamed: 0</th>\n",
              "      <th>country</th>\n",
              "      <th>description</th>\n",
              "      <th>designation</th>\n",
              "      <th>points</th>\n",
              "      <th>price</th>\n",
              "      <th>province</th>\n",
              "      <th>region_1</th>\n",
              "      <th>region_2</th>\n",
              "      <th>taster_name</th>\n",
              "      <th>taster_twitter_handle</th>\n",
              "      <th>title</th>\n",
              "      <th>variety</th>\n",
              "      <th>winery</th>\n",
              "    </tr>\n",
              "  </thead>\n",
              "  <tbody>\n",
              "    <tr>\n",
              "      <th>0</th>\n",
              "      <td>0</td>\n",
              "      <td>Italy</td>\n",
              "      <td>Aromas include tropical fruit, broom, brimston...</td>\n",
              "      <td>Vulkà Bianco</td>\n",
              "      <td>87</td>\n",
              "      <td>NaN</td>\n",
              "      <td>Sicily &amp; Sardinia</td>\n",
              "      <td>Etna</td>\n",
              "      <td>NaN</td>\n",
              "      <td>Kerin O’Keefe</td>\n",
              "      <td>@kerinokeefe</td>\n",
              "      <td>Nicosia 2013 Vulkà Bianco  (Etna)</td>\n",
              "      <td>White Blend</td>\n",
              "      <td>Nicosia</td>\n",
              "    </tr>\n",
              "    <tr>\n",
              "      <th>1</th>\n",
              "      <td>1</td>\n",
              "      <td>Portugal</td>\n",
              "      <td>This is ripe and fruity, a wine that is smooth...</td>\n",
              "      <td>Avidagos</td>\n",
              "      <td>87</td>\n",
              "      <td>15.0</td>\n",
              "      <td>Douro</td>\n",
              "      <td>NaN</td>\n",
              "      <td>NaN</td>\n",
              "      <td>Roger Voss</td>\n",
              "      <td>@vossroger</td>\n",
              "      <td>Quinta dos Avidagos 2011 Avidagos Red (Douro)</td>\n",
              "      <td>Portuguese Red</td>\n",
              "      <td>Quinta dos Avidagos</td>\n",
              "    </tr>\n",
              "    <tr>\n",
              "      <th>2</th>\n",
              "      <td>2</td>\n",
              "      <td>US</td>\n",
              "      <td>Tart and snappy, the flavors of lime flesh and...</td>\n",
              "      <td>NaN</td>\n",
              "      <td>87</td>\n",
              "      <td>14.0</td>\n",
              "      <td>Oregon</td>\n",
              "      <td>Willamette Valley</td>\n",
              "      <td>Willamette Valley</td>\n",
              "      <td>Paul Gregutt</td>\n",
              "      <td>@paulgwine</td>\n",
              "      <td>Rainstorm 2013 Pinot Gris (Willamette Valley)</td>\n",
              "      <td>Pinot Gris</td>\n",
              "      <td>Rainstorm</td>\n",
              "    </tr>\n",
              "    <tr>\n",
              "      <th>3</th>\n",
              "      <td>3</td>\n",
              "      <td>US</td>\n",
              "      <td>Pineapple rind, lemon pith and orange blossom ...</td>\n",
              "      <td>Reserve Late Harvest</td>\n",
              "      <td>87</td>\n",
              "      <td>13.0</td>\n",
              "      <td>Michigan</td>\n",
              "      <td>Lake Michigan Shore</td>\n",
              "      <td>NaN</td>\n",
              "      <td>Alexander Peartree</td>\n",
              "      <td>NaN</td>\n",
              "      <td>St. Julian 2013 Reserve Late Harvest Riesling ...</td>\n",
              "      <td>Riesling</td>\n",
              "      <td>St. Julian</td>\n",
              "    </tr>\n",
              "    <tr>\n",
              "      <th>4</th>\n",
              "      <td>4</td>\n",
              "      <td>US</td>\n",
              "      <td>Much like the regular bottling from 2012, this...</td>\n",
              "      <td>Vintner's Reserve Wild Child Block</td>\n",
              "      <td>87</td>\n",
              "      <td>65.0</td>\n",
              "      <td>Oregon</td>\n",
              "      <td>Willamette Valley</td>\n",
              "      <td>Willamette Valley</td>\n",
              "      <td>Paul Gregutt</td>\n",
              "      <td>@paulgwine</td>\n",
              "      <td>Sweet Cheeks 2012 Vintner's Reserve Wild Child...</td>\n",
              "      <td>Pinot Noir</td>\n",
              "      <td>Sweet Cheeks</td>\n",
              "    </tr>\n",
              "    <tr>\n",
              "      <th>...</th>\n",
              "      <td>...</td>\n",
              "      <td>...</td>\n",
              "      <td>...</td>\n",
              "      <td>...</td>\n",
              "      <td>...</td>\n",
              "      <td>...</td>\n",
              "      <td>...</td>\n",
              "      <td>...</td>\n",
              "      <td>...</td>\n",
              "      <td>...</td>\n",
              "      <td>...</td>\n",
              "      <td>...</td>\n",
              "      <td>...</td>\n",
              "      <td>...</td>\n",
              "    </tr>\n",
              "    <tr>\n",
              "      <th>129966</th>\n",
              "      <td>129966</td>\n",
              "      <td>Germany</td>\n",
              "      <td>Notes of honeysuckle and cantaloupe sweeten th...</td>\n",
              "      <td>Brauneberger Juffer-Sonnenuhr Spätlese</td>\n",
              "      <td>90</td>\n",
              "      <td>28.0</td>\n",
              "      <td>Mosel</td>\n",
              "      <td>NaN</td>\n",
              "      <td>NaN</td>\n",
              "      <td>Anna Lee C. Iijima</td>\n",
              "      <td>NaN</td>\n",
              "      <td>Dr. H. Thanisch (Erben Müller-Burggraef) 2013 ...</td>\n",
              "      <td>Riesling</td>\n",
              "      <td>Dr. H. Thanisch (Erben Müller-Burggraef)</td>\n",
              "    </tr>\n",
              "    <tr>\n",
              "      <th>129967</th>\n",
              "      <td>129967</td>\n",
              "      <td>US</td>\n",
              "      <td>Citation is given as much as a decade of bottl...</td>\n",
              "      <td>NaN</td>\n",
              "      <td>90</td>\n",
              "      <td>75.0</td>\n",
              "      <td>Oregon</td>\n",
              "      <td>Oregon</td>\n",
              "      <td>Oregon Other</td>\n",
              "      <td>Paul Gregutt</td>\n",
              "      <td>@paulgwine</td>\n",
              "      <td>Citation 2004 Pinot Noir (Oregon)</td>\n",
              "      <td>Pinot Noir</td>\n",
              "      <td>Citation</td>\n",
              "    </tr>\n",
              "    <tr>\n",
              "      <th>129968</th>\n",
              "      <td>129968</td>\n",
              "      <td>France</td>\n",
              "      <td>Well-drained gravel soil gives this wine its c...</td>\n",
              "      <td>Kritt</td>\n",
              "      <td>90</td>\n",
              "      <td>30.0</td>\n",
              "      <td>Alsace</td>\n",
              "      <td>Alsace</td>\n",
              "      <td>NaN</td>\n",
              "      <td>Roger Voss</td>\n",
              "      <td>@vossroger</td>\n",
              "      <td>Domaine Gresser 2013 Kritt Gewurztraminer (Als...</td>\n",
              "      <td>Gewürztraminer</td>\n",
              "      <td>Domaine Gresser</td>\n",
              "    </tr>\n",
              "    <tr>\n",
              "      <th>129969</th>\n",
              "      <td>129969</td>\n",
              "      <td>France</td>\n",
              "      <td>A dry style of Pinot Gris, this is crisp with ...</td>\n",
              "      <td>NaN</td>\n",
              "      <td>90</td>\n",
              "      <td>32.0</td>\n",
              "      <td>Alsace</td>\n",
              "      <td>Alsace</td>\n",
              "      <td>NaN</td>\n",
              "      <td>Roger Voss</td>\n",
              "      <td>@vossroger</td>\n",
              "      <td>Domaine Marcel Deiss 2012 Pinot Gris (Alsace)</td>\n",
              "      <td>Pinot Gris</td>\n",
              "      <td>Domaine Marcel Deiss</td>\n",
              "    </tr>\n",
              "    <tr>\n",
              "      <th>129970</th>\n",
              "      <td>129970</td>\n",
              "      <td>France</td>\n",
              "      <td>Big, rich and off-dry, this is powered by inte...</td>\n",
              "      <td>Lieu-dit Harth Cuvée Caroline</td>\n",
              "      <td>90</td>\n",
              "      <td>21.0</td>\n",
              "      <td>Alsace</td>\n",
              "      <td>Alsace</td>\n",
              "      <td>NaN</td>\n",
              "      <td>Roger Voss</td>\n",
              "      <td>@vossroger</td>\n",
              "      <td>Domaine Schoffit 2012 Lieu-dit Harth Cuvée Car...</td>\n",
              "      <td>Gewürztraminer</td>\n",
              "      <td>Domaine Schoffit</td>\n",
              "    </tr>\n",
              "  </tbody>\n",
              "</table>\n",
              "<p>129971 rows × 14 columns</p>\n",
              "</div>"
            ],
            "text/plain": [
              "        Unnamed: 0  ...                                    winery\n",
              "0                0  ...                                   Nicosia\n",
              "1                1  ...                       Quinta dos Avidagos\n",
              "2                2  ...                                 Rainstorm\n",
              "3                3  ...                                St. Julian\n",
              "4                4  ...                              Sweet Cheeks\n",
              "...            ...  ...                                       ...\n",
              "129966      129966  ...  Dr. H. Thanisch (Erben Müller-Burggraef)\n",
              "129967      129967  ...                                  Citation\n",
              "129968      129968  ...                           Domaine Gresser\n",
              "129969      129969  ...                      Domaine Marcel Deiss\n",
              "129970      129970  ...                          Domaine Schoffit\n",
              "\n",
              "[129971 rows x 14 columns]"
            ]
          },
          "metadata": {
            "tags": []
          },
          "execution_count": 25
        }
      ]
    },
    {
      "cell_type": "code",
      "metadata": {
        "id": "AXj7ejH1kdng",
        "colab_type": "code",
        "colab": {
          "base_uri": "https://localhost:8080/",
          "height": 34
        },
        "outputId": "c69b4832-1160-4045-e9d9-78b92f5240c5"
      },
      "source": [
        "#checking data \n",
        "wine.shape"
      ],
      "execution_count": 6,
      "outputs": [
        {
          "output_type": "execute_result",
          "data": {
            "text/plain": [
              "(129971, 14)"
            ]
          },
          "metadata": {
            "tags": []
          },
          "execution_count": 6
        }
      ]
    },
    {
      "cell_type": "code",
      "metadata": {
        "id": "CRj8yaOaktBp",
        "colab_type": "code",
        "colab": {
          "base_uri": "https://localhost:8080/",
          "height": 649
        },
        "outputId": "a93e6822-2fda-4bf8-89aa-7b0823651433"
      },
      "source": [
        "#datainspetion\n",
        "wine.head()"
      ],
      "execution_count": 7,
      "outputs": [
        {
          "output_type": "execute_result",
          "data": {
            "text/html": [
              "<div>\n",
              "<style scoped>\n",
              "    .dataframe tbody tr th:only-of-type {\n",
              "        vertical-align: middle;\n",
              "    }\n",
              "\n",
              "    .dataframe tbody tr th {\n",
              "        vertical-align: top;\n",
              "    }\n",
              "\n",
              "    .dataframe thead th {\n",
              "        text-align: right;\n",
              "    }\n",
              "</style>\n",
              "<table border=\"1\" class=\"dataframe\">\n",
              "  <thead>\n",
              "    <tr style=\"text-align: right;\">\n",
              "      <th></th>\n",
              "      <th>Unnamed: 0</th>\n",
              "      <th>country</th>\n",
              "      <th>description</th>\n",
              "      <th>designation</th>\n",
              "      <th>points</th>\n",
              "      <th>price</th>\n",
              "      <th>province</th>\n",
              "      <th>region_1</th>\n",
              "      <th>region_2</th>\n",
              "      <th>taster_name</th>\n",
              "      <th>taster_twitter_handle</th>\n",
              "      <th>title</th>\n",
              "      <th>variety</th>\n",
              "      <th>winery</th>\n",
              "    </tr>\n",
              "  </thead>\n",
              "  <tbody>\n",
              "    <tr>\n",
              "      <th>0</th>\n",
              "      <td>0</td>\n",
              "      <td>Italy</td>\n",
              "      <td>Aromas include tropical fruit, broom, brimston...</td>\n",
              "      <td>Vulkà Bianco</td>\n",
              "      <td>87</td>\n",
              "      <td>NaN</td>\n",
              "      <td>Sicily &amp; Sardinia</td>\n",
              "      <td>Etna</td>\n",
              "      <td>NaN</td>\n",
              "      <td>Kerin O’Keefe</td>\n",
              "      <td>@kerinokeefe</td>\n",
              "      <td>Nicosia 2013 Vulkà Bianco  (Etna)</td>\n",
              "      <td>White Blend</td>\n",
              "      <td>Nicosia</td>\n",
              "    </tr>\n",
              "    <tr>\n",
              "      <th>1</th>\n",
              "      <td>1</td>\n",
              "      <td>Portugal</td>\n",
              "      <td>This is ripe and fruity, a wine that is smooth...</td>\n",
              "      <td>Avidagos</td>\n",
              "      <td>87</td>\n",
              "      <td>15.0</td>\n",
              "      <td>Douro</td>\n",
              "      <td>NaN</td>\n",
              "      <td>NaN</td>\n",
              "      <td>Roger Voss</td>\n",
              "      <td>@vossroger</td>\n",
              "      <td>Quinta dos Avidagos 2011 Avidagos Red (Douro)</td>\n",
              "      <td>Portuguese Red</td>\n",
              "      <td>Quinta dos Avidagos</td>\n",
              "    </tr>\n",
              "    <tr>\n",
              "      <th>2</th>\n",
              "      <td>2</td>\n",
              "      <td>US</td>\n",
              "      <td>Tart and snappy, the flavors of lime flesh and...</td>\n",
              "      <td>NaN</td>\n",
              "      <td>87</td>\n",
              "      <td>14.0</td>\n",
              "      <td>Oregon</td>\n",
              "      <td>Willamette Valley</td>\n",
              "      <td>Willamette Valley</td>\n",
              "      <td>Paul Gregutt</td>\n",
              "      <td>@paulgwine</td>\n",
              "      <td>Rainstorm 2013 Pinot Gris (Willamette Valley)</td>\n",
              "      <td>Pinot Gris</td>\n",
              "      <td>Rainstorm</td>\n",
              "    </tr>\n",
              "    <tr>\n",
              "      <th>3</th>\n",
              "      <td>3</td>\n",
              "      <td>US</td>\n",
              "      <td>Pineapple rind, lemon pith and orange blossom ...</td>\n",
              "      <td>Reserve Late Harvest</td>\n",
              "      <td>87</td>\n",
              "      <td>13.0</td>\n",
              "      <td>Michigan</td>\n",
              "      <td>Lake Michigan Shore</td>\n",
              "      <td>NaN</td>\n",
              "      <td>Alexander Peartree</td>\n",
              "      <td>NaN</td>\n",
              "      <td>St. Julian 2013 Reserve Late Harvest Riesling ...</td>\n",
              "      <td>Riesling</td>\n",
              "      <td>St. Julian</td>\n",
              "    </tr>\n",
              "    <tr>\n",
              "      <th>4</th>\n",
              "      <td>4</td>\n",
              "      <td>US</td>\n",
              "      <td>Much like the regular bottling from 2012, this...</td>\n",
              "      <td>Vintner's Reserve Wild Child Block</td>\n",
              "      <td>87</td>\n",
              "      <td>65.0</td>\n",
              "      <td>Oregon</td>\n",
              "      <td>Willamette Valley</td>\n",
              "      <td>Willamette Valley</td>\n",
              "      <td>Paul Gregutt</td>\n",
              "      <td>@paulgwine</td>\n",
              "      <td>Sweet Cheeks 2012 Vintner's Reserve Wild Child...</td>\n",
              "      <td>Pinot Noir</td>\n",
              "      <td>Sweet Cheeks</td>\n",
              "    </tr>\n",
              "  </tbody>\n",
              "</table>\n",
              "</div>"
            ],
            "text/plain": [
              "   Unnamed: 0   country  ...         variety               winery\n",
              "0           0     Italy  ...     White Blend              Nicosia\n",
              "1           1  Portugal  ...  Portuguese Red  Quinta dos Avidagos\n",
              "2           2        US  ...      Pinot Gris            Rainstorm\n",
              "3           3        US  ...        Riesling           St. Julian\n",
              "4           4        US  ...      Pinot Noir         Sweet Cheeks\n",
              "\n",
              "[5 rows x 14 columns]"
            ]
          },
          "metadata": {
            "tags": []
          },
          "execution_count": 7
        }
      ]
    },
    {
      "cell_type": "code",
      "metadata": {
        "id": "jhIspLEMk239",
        "colab_type": "code",
        "colab": {
          "base_uri": "https://localhost:8080/",
          "height": 85
        },
        "outputId": "807d1b61-9d74-4de3-ee3b-7e4cfe69d9f0"
      },
      "source": [
        "#columns\n",
        "wine.columns"
      ],
      "execution_count": 9,
      "outputs": [
        {
          "output_type": "execute_result",
          "data": {
            "text/plain": [
              "Index(['Unnamed: 0', 'country', 'description', 'designation', 'points',\n",
              "       'price', 'province', 'region_1', 'region_2', 'taster_name',\n",
              "       'taster_twitter_handle', 'title', 'variety', 'winery'],\n",
              "      dtype='object')"
            ]
          },
          "metadata": {
            "tags": []
          },
          "execution_count": 9
        }
      ]
    },
    {
      "cell_type": "markdown",
      "metadata": {
        "id": "drYt8kAYlC-P",
        "colab_type": "text"
      },
      "source": [
        "1.data types"
      ]
    },
    {
      "cell_type": "code",
      "metadata": {
        "id": "0KRRt5FUlFhq",
        "colab_type": "code",
        "colab": {
          "base_uri": "https://localhost:8080/",
          "height": 272
        },
        "outputId": "e6fe0dc5-122b-48c1-f989-ad26a97acc03"
      },
      "source": [
        "wine.dtypes"
      ],
      "execution_count": 11,
      "outputs": [
        {
          "output_type": "execute_result",
          "data": {
            "text/plain": [
              "Unnamed: 0                 int64\n",
              "country                   object\n",
              "description               object\n",
              "designation               object\n",
              "points                     int64\n",
              "price                    float64\n",
              "province                  object\n",
              "region_1                  object\n",
              "region_2                  object\n",
              "taster_name               object\n",
              "taster_twitter_handle     object\n",
              "title                     object\n",
              "variety                   object\n",
              "winery                    object\n",
              "dtype: object"
            ]
          },
          "metadata": {
            "tags": []
          },
          "execution_count": 11
        }
      ]
    },
    {
      "cell_type": "markdown",
      "metadata": {
        "id": "zJ2auPSblT6r",
        "colab_type": "text"
      },
      "source": [
        "2.central tendency"
      ]
    },
    {
      "cell_type": "code",
      "metadata": {
        "id": "8x6UGbEwlXEL",
        "colab_type": "code",
        "colab": {
          "base_uri": "https://localhost:8080/",
          "height": 1000
        },
        "outputId": "39060136-9660-4809-d3f1-34fa22a98b21"
      },
      "source": [
        "#sorting data\n",
        "sorted(wine)\n",
        "wine"
      ],
      "execution_count": 13,
      "outputs": [
        {
          "output_type": "execute_result",
          "data": {
            "text/html": [
              "<div>\n",
              "<style scoped>\n",
              "    .dataframe tbody tr th:only-of-type {\n",
              "        vertical-align: middle;\n",
              "    }\n",
              "\n",
              "    .dataframe tbody tr th {\n",
              "        vertical-align: top;\n",
              "    }\n",
              "\n",
              "    .dataframe thead th {\n",
              "        text-align: right;\n",
              "    }\n",
              "</style>\n",
              "<table border=\"1\" class=\"dataframe\">\n",
              "  <thead>\n",
              "    <tr style=\"text-align: right;\">\n",
              "      <th></th>\n",
              "      <th>Unnamed: 0</th>\n",
              "      <th>country</th>\n",
              "      <th>description</th>\n",
              "      <th>designation</th>\n",
              "      <th>points</th>\n",
              "      <th>price</th>\n",
              "      <th>province</th>\n",
              "      <th>region_1</th>\n",
              "      <th>region_2</th>\n",
              "      <th>taster_name</th>\n",
              "      <th>taster_twitter_handle</th>\n",
              "      <th>title</th>\n",
              "      <th>variety</th>\n",
              "      <th>winery</th>\n",
              "    </tr>\n",
              "  </thead>\n",
              "  <tbody>\n",
              "    <tr>\n",
              "      <th>0</th>\n",
              "      <td>0</td>\n",
              "      <td>Italy</td>\n",
              "      <td>Aromas include tropical fruit, broom, brimston...</td>\n",
              "      <td>Vulkà Bianco</td>\n",
              "      <td>87</td>\n",
              "      <td>NaN</td>\n",
              "      <td>Sicily &amp; Sardinia</td>\n",
              "      <td>Etna</td>\n",
              "      <td>NaN</td>\n",
              "      <td>Kerin O’Keefe</td>\n",
              "      <td>@kerinokeefe</td>\n",
              "      <td>Nicosia 2013 Vulkà Bianco  (Etna)</td>\n",
              "      <td>White Blend</td>\n",
              "      <td>Nicosia</td>\n",
              "    </tr>\n",
              "    <tr>\n",
              "      <th>1</th>\n",
              "      <td>1</td>\n",
              "      <td>Portugal</td>\n",
              "      <td>This is ripe and fruity, a wine that is smooth...</td>\n",
              "      <td>Avidagos</td>\n",
              "      <td>87</td>\n",
              "      <td>15.0</td>\n",
              "      <td>Douro</td>\n",
              "      <td>NaN</td>\n",
              "      <td>NaN</td>\n",
              "      <td>Roger Voss</td>\n",
              "      <td>@vossroger</td>\n",
              "      <td>Quinta dos Avidagos 2011 Avidagos Red (Douro)</td>\n",
              "      <td>Portuguese Red</td>\n",
              "      <td>Quinta dos Avidagos</td>\n",
              "    </tr>\n",
              "    <tr>\n",
              "      <th>2</th>\n",
              "      <td>2</td>\n",
              "      <td>US</td>\n",
              "      <td>Tart and snappy, the flavors of lime flesh and...</td>\n",
              "      <td>NaN</td>\n",
              "      <td>87</td>\n",
              "      <td>14.0</td>\n",
              "      <td>Oregon</td>\n",
              "      <td>Willamette Valley</td>\n",
              "      <td>Willamette Valley</td>\n",
              "      <td>Paul Gregutt</td>\n",
              "      <td>@paulgwine</td>\n",
              "      <td>Rainstorm 2013 Pinot Gris (Willamette Valley)</td>\n",
              "      <td>Pinot Gris</td>\n",
              "      <td>Rainstorm</td>\n",
              "    </tr>\n",
              "    <tr>\n",
              "      <th>3</th>\n",
              "      <td>3</td>\n",
              "      <td>US</td>\n",
              "      <td>Pineapple rind, lemon pith and orange blossom ...</td>\n",
              "      <td>Reserve Late Harvest</td>\n",
              "      <td>87</td>\n",
              "      <td>13.0</td>\n",
              "      <td>Michigan</td>\n",
              "      <td>Lake Michigan Shore</td>\n",
              "      <td>NaN</td>\n",
              "      <td>Alexander Peartree</td>\n",
              "      <td>NaN</td>\n",
              "      <td>St. Julian 2013 Reserve Late Harvest Riesling ...</td>\n",
              "      <td>Riesling</td>\n",
              "      <td>St. Julian</td>\n",
              "    </tr>\n",
              "    <tr>\n",
              "      <th>4</th>\n",
              "      <td>4</td>\n",
              "      <td>US</td>\n",
              "      <td>Much like the regular bottling from 2012, this...</td>\n",
              "      <td>Vintner's Reserve Wild Child Block</td>\n",
              "      <td>87</td>\n",
              "      <td>65.0</td>\n",
              "      <td>Oregon</td>\n",
              "      <td>Willamette Valley</td>\n",
              "      <td>Willamette Valley</td>\n",
              "      <td>Paul Gregutt</td>\n",
              "      <td>@paulgwine</td>\n",
              "      <td>Sweet Cheeks 2012 Vintner's Reserve Wild Child...</td>\n",
              "      <td>Pinot Noir</td>\n",
              "      <td>Sweet Cheeks</td>\n",
              "    </tr>\n",
              "    <tr>\n",
              "      <th>...</th>\n",
              "      <td>...</td>\n",
              "      <td>...</td>\n",
              "      <td>...</td>\n",
              "      <td>...</td>\n",
              "      <td>...</td>\n",
              "      <td>...</td>\n",
              "      <td>...</td>\n",
              "      <td>...</td>\n",
              "      <td>...</td>\n",
              "      <td>...</td>\n",
              "      <td>...</td>\n",
              "      <td>...</td>\n",
              "      <td>...</td>\n",
              "      <td>...</td>\n",
              "    </tr>\n",
              "    <tr>\n",
              "      <th>129966</th>\n",
              "      <td>129966</td>\n",
              "      <td>Germany</td>\n",
              "      <td>Notes of honeysuckle and cantaloupe sweeten th...</td>\n",
              "      <td>Brauneberger Juffer-Sonnenuhr Spätlese</td>\n",
              "      <td>90</td>\n",
              "      <td>28.0</td>\n",
              "      <td>Mosel</td>\n",
              "      <td>NaN</td>\n",
              "      <td>NaN</td>\n",
              "      <td>Anna Lee C. Iijima</td>\n",
              "      <td>NaN</td>\n",
              "      <td>Dr. H. Thanisch (Erben Müller-Burggraef) 2013 ...</td>\n",
              "      <td>Riesling</td>\n",
              "      <td>Dr. H. Thanisch (Erben Müller-Burggraef)</td>\n",
              "    </tr>\n",
              "    <tr>\n",
              "      <th>129967</th>\n",
              "      <td>129967</td>\n",
              "      <td>US</td>\n",
              "      <td>Citation is given as much as a decade of bottl...</td>\n",
              "      <td>NaN</td>\n",
              "      <td>90</td>\n",
              "      <td>75.0</td>\n",
              "      <td>Oregon</td>\n",
              "      <td>Oregon</td>\n",
              "      <td>Oregon Other</td>\n",
              "      <td>Paul Gregutt</td>\n",
              "      <td>@paulgwine</td>\n",
              "      <td>Citation 2004 Pinot Noir (Oregon)</td>\n",
              "      <td>Pinot Noir</td>\n",
              "      <td>Citation</td>\n",
              "    </tr>\n",
              "    <tr>\n",
              "      <th>129968</th>\n",
              "      <td>129968</td>\n",
              "      <td>France</td>\n",
              "      <td>Well-drained gravel soil gives this wine its c...</td>\n",
              "      <td>Kritt</td>\n",
              "      <td>90</td>\n",
              "      <td>30.0</td>\n",
              "      <td>Alsace</td>\n",
              "      <td>Alsace</td>\n",
              "      <td>NaN</td>\n",
              "      <td>Roger Voss</td>\n",
              "      <td>@vossroger</td>\n",
              "      <td>Domaine Gresser 2013 Kritt Gewurztraminer (Als...</td>\n",
              "      <td>Gewürztraminer</td>\n",
              "      <td>Domaine Gresser</td>\n",
              "    </tr>\n",
              "    <tr>\n",
              "      <th>129969</th>\n",
              "      <td>129969</td>\n",
              "      <td>France</td>\n",
              "      <td>A dry style of Pinot Gris, this is crisp with ...</td>\n",
              "      <td>NaN</td>\n",
              "      <td>90</td>\n",
              "      <td>32.0</td>\n",
              "      <td>Alsace</td>\n",
              "      <td>Alsace</td>\n",
              "      <td>NaN</td>\n",
              "      <td>Roger Voss</td>\n",
              "      <td>@vossroger</td>\n",
              "      <td>Domaine Marcel Deiss 2012 Pinot Gris (Alsace)</td>\n",
              "      <td>Pinot Gris</td>\n",
              "      <td>Domaine Marcel Deiss</td>\n",
              "    </tr>\n",
              "    <tr>\n",
              "      <th>129970</th>\n",
              "      <td>129970</td>\n",
              "      <td>France</td>\n",
              "      <td>Big, rich and off-dry, this is powered by inte...</td>\n",
              "      <td>Lieu-dit Harth Cuvée Caroline</td>\n",
              "      <td>90</td>\n",
              "      <td>21.0</td>\n",
              "      <td>Alsace</td>\n",
              "      <td>Alsace</td>\n",
              "      <td>NaN</td>\n",
              "      <td>Roger Voss</td>\n",
              "      <td>@vossroger</td>\n",
              "      <td>Domaine Schoffit 2012 Lieu-dit Harth Cuvée Car...</td>\n",
              "      <td>Gewürztraminer</td>\n",
              "      <td>Domaine Schoffit</td>\n",
              "    </tr>\n",
              "  </tbody>\n",
              "</table>\n",
              "<p>129971 rows × 14 columns</p>\n",
              "</div>"
            ],
            "text/plain": [
              "        Unnamed: 0  ...                                    winery\n",
              "0                0  ...                                   Nicosia\n",
              "1                1  ...                       Quinta dos Avidagos\n",
              "2                2  ...                                 Rainstorm\n",
              "3                3  ...                                St. Julian\n",
              "4                4  ...                              Sweet Cheeks\n",
              "...            ...  ...                                       ...\n",
              "129966      129966  ...  Dr. H. Thanisch (Erben Müller-Burggraef)\n",
              "129967      129967  ...                                  Citation\n",
              "129968      129968  ...                           Domaine Gresser\n",
              "129969      129969  ...                      Domaine Marcel Deiss\n",
              "129970      129970  ...                          Domaine Schoffit\n",
              "\n",
              "[129971 rows x 14 columns]"
            ]
          },
          "metadata": {
            "tags": []
          },
          "execution_count": 13
        }
      ]
    },
    {
      "cell_type": "code",
      "metadata": {
        "id": "buCLGqoDlcJr",
        "colab_type": "code",
        "colab": {
          "base_uri": "https://localhost:8080/",
          "height": 34
        },
        "outputId": "db442983-88d1-470f-c4c9-c815cef97b99"
      },
      "source": [
        "type(wine)"
      ],
      "execution_count": 14,
      "outputs": [
        {
          "output_type": "execute_result",
          "data": {
            "text/plain": [
              "pandas.core.frame.DataFrame"
            ]
          },
          "metadata": {
            "tags": []
          },
          "execution_count": 14
        }
      ]
    },
    {
      "cell_type": "code",
      "metadata": {
        "id": "KOdTLcnKlmDS",
        "colab_type": "code",
        "colab": {
          "base_uri": "https://localhost:8080/",
          "height": 85
        },
        "outputId": "a848a03a-b138-4389-ae4e-f2f520ac4854"
      },
      "source": [
        "wine.median()"
      ],
      "execution_count": 15,
      "outputs": [
        {
          "output_type": "execute_result",
          "data": {
            "text/plain": [
              "Unnamed: 0    64985.0\n",
              "points           88.0\n",
              "price            25.0\n",
              "dtype: float64"
            ]
          },
          "metadata": {
            "tags": []
          },
          "execution_count": 15
        }
      ]
    },
    {
      "cell_type": "code",
      "metadata": {
        "id": "lfNmdmullvhE",
        "colab_type": "code",
        "colab": {
          "base_uri": "https://localhost:8080/",
          "height": 796
        },
        "outputId": "d837bb75-e0a6-4b89-c599-dd57aa4790d0"
      },
      "source": [
        "wine.mode()"
      ],
      "execution_count": 16,
      "outputs": [
        {
          "output_type": "execute_result",
          "data": {
            "text/html": [
              "<div>\n",
              "<style scoped>\n",
              "    .dataframe tbody tr th:only-of-type {\n",
              "        vertical-align: middle;\n",
              "    }\n",
              "\n",
              "    .dataframe tbody tr th {\n",
              "        vertical-align: top;\n",
              "    }\n",
              "\n",
              "    .dataframe thead th {\n",
              "        text-align: right;\n",
              "    }\n",
              "</style>\n",
              "<table border=\"1\" class=\"dataframe\">\n",
              "  <thead>\n",
              "    <tr style=\"text-align: right;\">\n",
              "      <th></th>\n",
              "      <th>Unnamed: 0</th>\n",
              "      <th>country</th>\n",
              "      <th>description</th>\n",
              "      <th>designation</th>\n",
              "      <th>points</th>\n",
              "      <th>price</th>\n",
              "      <th>province</th>\n",
              "      <th>region_1</th>\n",
              "      <th>region_2</th>\n",
              "      <th>taster_name</th>\n",
              "      <th>taster_twitter_handle</th>\n",
              "      <th>title</th>\n",
              "      <th>variety</th>\n",
              "      <th>winery</th>\n",
              "    </tr>\n",
              "  </thead>\n",
              "  <tbody>\n",
              "    <tr>\n",
              "      <th>0</th>\n",
              "      <td>0</td>\n",
              "      <td>US</td>\n",
              "      <td>Cigar box, café au lait, and dried tobacco aro...</td>\n",
              "      <td>Reserve</td>\n",
              "      <td>88.0</td>\n",
              "      <td>20.0</td>\n",
              "      <td>California</td>\n",
              "      <td>Napa Valley</td>\n",
              "      <td>Central Coast</td>\n",
              "      <td>Roger Voss</td>\n",
              "      <td>@vossroger</td>\n",
              "      <td>Gloria Ferrer NV Sonoma Brut Sparkling (Sonoma...</td>\n",
              "      <td>Pinot Noir</td>\n",
              "      <td>Wines &amp; Winemakers</td>\n",
              "    </tr>\n",
              "    <tr>\n",
              "      <th>1</th>\n",
              "      <td>1</td>\n",
              "      <td>NaN</td>\n",
              "      <td>Gravenstein apple, honeysuckle and jasmine aro...</td>\n",
              "      <td>NaN</td>\n",
              "      <td>NaN</td>\n",
              "      <td>NaN</td>\n",
              "      <td>NaN</td>\n",
              "      <td>NaN</td>\n",
              "      <td>NaN</td>\n",
              "      <td>NaN</td>\n",
              "      <td>NaN</td>\n",
              "      <td>NaN</td>\n",
              "      <td>NaN</td>\n",
              "      <td>NaN</td>\n",
              "    </tr>\n",
              "    <tr>\n",
              "      <th>2</th>\n",
              "      <td>2</td>\n",
              "      <td>NaN</td>\n",
              "      <td>Ripe plum, game, truffle, leather and menthol ...</td>\n",
              "      <td>NaN</td>\n",
              "      <td>NaN</td>\n",
              "      <td>NaN</td>\n",
              "      <td>NaN</td>\n",
              "      <td>NaN</td>\n",
              "      <td>NaN</td>\n",
              "      <td>NaN</td>\n",
              "      <td>NaN</td>\n",
              "      <td>NaN</td>\n",
              "      <td>NaN</td>\n",
              "      <td>NaN</td>\n",
              "    </tr>\n",
              "    <tr>\n",
              "      <th>3</th>\n",
              "      <td>3</td>\n",
              "      <td>NaN</td>\n",
              "      <td>Seductively tart in lemon pith, cranberry and ...</td>\n",
              "      <td>NaN</td>\n",
              "      <td>NaN</td>\n",
              "      <td>NaN</td>\n",
              "      <td>NaN</td>\n",
              "      <td>NaN</td>\n",
              "      <td>NaN</td>\n",
              "      <td>NaN</td>\n",
              "      <td>NaN</td>\n",
              "      <td>NaN</td>\n",
              "      <td>NaN</td>\n",
              "      <td>NaN</td>\n",
              "    </tr>\n",
              "    <tr>\n",
              "      <th>4</th>\n",
              "      <td>4</td>\n",
              "      <td>NaN</td>\n",
              "      <td>Stalky aromas suggest hay and green herbs, wit...</td>\n",
              "      <td>NaN</td>\n",
              "      <td>NaN</td>\n",
              "      <td>NaN</td>\n",
              "      <td>NaN</td>\n",
              "      <td>NaN</td>\n",
              "      <td>NaN</td>\n",
              "      <td>NaN</td>\n",
              "      <td>NaN</td>\n",
              "      <td>NaN</td>\n",
              "      <td>NaN</td>\n",
              "      <td>NaN</td>\n",
              "    </tr>\n",
              "    <tr>\n",
              "      <th>...</th>\n",
              "      <td>...</td>\n",
              "      <td>...</td>\n",
              "      <td>...</td>\n",
              "      <td>...</td>\n",
              "      <td>...</td>\n",
              "      <td>...</td>\n",
              "      <td>...</td>\n",
              "      <td>...</td>\n",
              "      <td>...</td>\n",
              "      <td>...</td>\n",
              "      <td>...</td>\n",
              "      <td>...</td>\n",
              "      <td>...</td>\n",
              "      <td>...</td>\n",
              "    </tr>\n",
              "    <tr>\n",
              "      <th>129966</th>\n",
              "      <td>129966</td>\n",
              "      <td>NaN</td>\n",
              "      <td>NaN</td>\n",
              "      <td>NaN</td>\n",
              "      <td>NaN</td>\n",
              "      <td>NaN</td>\n",
              "      <td>NaN</td>\n",
              "      <td>NaN</td>\n",
              "      <td>NaN</td>\n",
              "      <td>NaN</td>\n",
              "      <td>NaN</td>\n",
              "      <td>NaN</td>\n",
              "      <td>NaN</td>\n",
              "      <td>NaN</td>\n",
              "    </tr>\n",
              "    <tr>\n",
              "      <th>129967</th>\n",
              "      <td>129967</td>\n",
              "      <td>NaN</td>\n",
              "      <td>NaN</td>\n",
              "      <td>NaN</td>\n",
              "      <td>NaN</td>\n",
              "      <td>NaN</td>\n",
              "      <td>NaN</td>\n",
              "      <td>NaN</td>\n",
              "      <td>NaN</td>\n",
              "      <td>NaN</td>\n",
              "      <td>NaN</td>\n",
              "      <td>NaN</td>\n",
              "      <td>NaN</td>\n",
              "      <td>NaN</td>\n",
              "    </tr>\n",
              "    <tr>\n",
              "      <th>129968</th>\n",
              "      <td>129968</td>\n",
              "      <td>NaN</td>\n",
              "      <td>NaN</td>\n",
              "      <td>NaN</td>\n",
              "      <td>NaN</td>\n",
              "      <td>NaN</td>\n",
              "      <td>NaN</td>\n",
              "      <td>NaN</td>\n",
              "      <td>NaN</td>\n",
              "      <td>NaN</td>\n",
              "      <td>NaN</td>\n",
              "      <td>NaN</td>\n",
              "      <td>NaN</td>\n",
              "      <td>NaN</td>\n",
              "    </tr>\n",
              "    <tr>\n",
              "      <th>129969</th>\n",
              "      <td>129969</td>\n",
              "      <td>NaN</td>\n",
              "      <td>NaN</td>\n",
              "      <td>NaN</td>\n",
              "      <td>NaN</td>\n",
              "      <td>NaN</td>\n",
              "      <td>NaN</td>\n",
              "      <td>NaN</td>\n",
              "      <td>NaN</td>\n",
              "      <td>NaN</td>\n",
              "      <td>NaN</td>\n",
              "      <td>NaN</td>\n",
              "      <td>NaN</td>\n",
              "      <td>NaN</td>\n",
              "    </tr>\n",
              "    <tr>\n",
              "      <th>129970</th>\n",
              "      <td>129970</td>\n",
              "      <td>NaN</td>\n",
              "      <td>NaN</td>\n",
              "      <td>NaN</td>\n",
              "      <td>NaN</td>\n",
              "      <td>NaN</td>\n",
              "      <td>NaN</td>\n",
              "      <td>NaN</td>\n",
              "      <td>NaN</td>\n",
              "      <td>NaN</td>\n",
              "      <td>NaN</td>\n",
              "      <td>NaN</td>\n",
              "      <td>NaN</td>\n",
              "      <td>NaN</td>\n",
              "    </tr>\n",
              "  </tbody>\n",
              "</table>\n",
              "<p>129971 rows × 14 columns</p>\n",
              "</div>"
            ],
            "text/plain": [
              "        Unnamed: 0 country  ...     variety              winery\n",
              "0                0      US  ...  Pinot Noir  Wines & Winemakers\n",
              "1                1     NaN  ...         NaN                 NaN\n",
              "2                2     NaN  ...         NaN                 NaN\n",
              "3                3     NaN  ...         NaN                 NaN\n",
              "4                4     NaN  ...         NaN                 NaN\n",
              "...            ...     ...  ...         ...                 ...\n",
              "129966      129966     NaN  ...         NaN                 NaN\n",
              "129967      129967     NaN  ...         NaN                 NaN\n",
              "129968      129968     NaN  ...         NaN                 NaN\n",
              "129969      129969     NaN  ...         NaN                 NaN\n",
              "129970      129970     NaN  ...         NaN                 NaN\n",
              "\n",
              "[129971 rows x 14 columns]"
            ]
          },
          "metadata": {
            "tags": []
          },
          "execution_count": 16
        }
      ]
    },
    {
      "cell_type": "code",
      "metadata": {
        "id": "eJcnYzeslx2k",
        "colab_type": "code",
        "colab": {
          "base_uri": "https://localhost:8080/",
          "height": 221
        },
        "outputId": "fc51a386-a593-479e-f340-c8d35ee69825"
      },
      "source": [
        "wine.mean(axis=1)"
      ],
      "execution_count": 17,
      "outputs": [
        {
          "output_type": "execute_result",
          "data": {
            "text/plain": [
              "0            43.500000\n",
              "1            34.333333\n",
              "2            34.333333\n",
              "3            34.333333\n",
              "4            52.000000\n",
              "              ...     \n",
              "129966    43361.333333\n",
              "129967    43377.333333\n",
              "129968    43362.666667\n",
              "129969    43363.666667\n",
              "129970    43360.333333\n",
              "Length: 129971, dtype: float64"
            ]
          },
          "metadata": {
            "tags": []
          },
          "execution_count": 17
        }
      ]
    },
    {
      "cell_type": "markdown",
      "metadata": {
        "id": "UICd8Et3l9HW",
        "colab_type": "text"
      },
      "source": [
        "3.variability"
      ]
    },
    {
      "cell_type": "code",
      "metadata": {
        "id": "qrinmE6zmAri",
        "colab_type": "code",
        "colab": {
          "base_uri": "https://localhost:8080/",
          "height": 85
        },
        "outputId": "7afb5e90-6939-4ada-ce2e-b5be7a673cbb"
      },
      "source": [
        "# standard deviation\n",
        "# degree of freedom = 0\n",
        "# divided by n instead of divided by n - 1\n",
        "wine.std(ddof=0)"
      ],
      "execution_count": 20,
      "outputs": [
        {
          "output_type": "execute_result",
          "data": {
            "text/plain": [
              "Unnamed: 0    37519.395917\n",
              "points            3.039719\n",
              "price            41.022048\n",
              "dtype: float64"
            ]
          },
          "metadata": {
            "tags": []
          },
          "execution_count": 20
        }
      ]
    },
    {
      "cell_type": "markdown",
      "metadata": {
        "id": "1vT_tvY9mlsS",
        "colab_type": "text"
      },
      "source": [
        "4.About the distribution"
      ]
    },
    {
      "cell_type": "code",
      "metadata": {
        "id": "9gp0E47-ms1N",
        "colab_type": "code",
        "colab": {
          "base_uri": "https://localhost:8080/",
          "height": 265
        },
        "outputId": "65fff938-d664-44d3-8dbe-9d26793019ed"
      },
      "source": [
        "import matplotlib.pyplot as plt\n",
        "import pandas as pd\n",
        "import seaborn as sns\n",
        "a=wine.tail(10)\n",
        "a.plot(kind=\"hist\")\n",
        "plt.show()"
      ],
      "execution_count": 21,
      "outputs": [
        {
          "output_type": "display_data",
          "data": {
            "image/png": "[encoded data removed]",
            "text/plain": [
              "<Figure size 432x288 with 1 Axes>"
            ]
          },
          "metadata": {
            "tags": []
          }
        }
      ]
    },
    {
      "cell_type": "markdown",
      "metadata": {
        "id": "K7fZrx1Cm5EF",
        "colab_type": "text"
      },
      "source": [
        "corellation"
      ]
    },
    {
      "cell_type": "code",
      "metadata": {
        "id": "0z9WGBbfm8C8",
        "colab_type": "code",
        "colab": {
          "base_uri": "https://localhost:8080/",
          "height": 142
        },
        "outputId": "57b084b7-804b-49ad-8be6-11b8aaf0d3f5"
      },
      "source": [
        "import numpy as np\n",
        "import pandas as pd\n",
        "import seaborn as sns\n",
        "import matplotlib as plt\n",
        "corrMatrix=wine.corr()\n",
        "corrMatrix"
      ],
      "execution_count": 22,
      "outputs": [
        {
          "output_type": "execute_result",
          "data": {
            "text/html": [
              "<div>\n",
              "<style scoped>\n",
              "    .dataframe tbody tr th:only-of-type {\n",
              "        vertical-align: middle;\n",
              "    }\n",
              "\n",
              "    .dataframe tbody tr th {\n",
              "        vertical-align: top;\n",
              "    }\n",
              "\n",
              "    .dataframe thead th {\n",
              "        text-align: right;\n",
              "    }\n",
              "</style>\n",
              "<table border=\"1\" class=\"dataframe\">\n",
              "  <thead>\n",
              "    <tr style=\"text-align: right;\">\n",
              "      <th></th>\n",
              "      <th>Unnamed: 0</th>\n",
              "      <th>points</th>\n",
              "      <th>price</th>\n",
              "    </tr>\n",
              "  </thead>\n",
              "  <tbody>\n",
              "    <tr>\n",
              "      <th>Unnamed: 0</th>\n",
              "      <td>1.000000</td>\n",
              "      <td>0.007124</td>\n",
              "      <td>0.004823</td>\n",
              "    </tr>\n",
              "    <tr>\n",
              "      <th>points</th>\n",
              "      <td>0.007124</td>\n",
              "      <td>1.000000</td>\n",
              "      <td>0.416167</td>\n",
              "    </tr>\n",
              "    <tr>\n",
              "      <th>price</th>\n",
              "      <td>0.004823</td>\n",
              "      <td>0.416167</td>\n",
              "      <td>1.000000</td>\n",
              "    </tr>\n",
              "  </tbody>\n",
              "</table>\n",
              "</div>"
            ],
            "text/plain": [
              "            Unnamed: 0    points     price\n",
              "Unnamed: 0    1.000000  0.007124  0.004823\n",
              "points        0.007124  1.000000  0.416167\n",
              "price         0.004823  0.416167  1.000000"
            ]
          },
          "metadata": {
            "tags": []
          },
          "execution_count": 22
        }
      ]
    },
    {
      "cell_type": "markdown",
      "metadata": {
        "id": "r3TS6ESpnHCC",
        "colab_type": "text"
      },
      "source": [
        "heat map"
      ]
    },
    {
      "cell_type": "code",
      "metadata": {
        "id": "6nBqc9-7nKIx",
        "colab_type": "code",
        "colab": {
          "base_uri": "https://localhost:8080/",
          "height": 286
        },
        "outputId": "326b42a1-ccb1-49a3-975a-8740653f3d1c"
      },
      "source": [
        "sns.heatmap(corrMatrix,annot=True)"
      ],
      "execution_count": 23,
      "outputs": [
        {
          "output_type": "execute_result",
          "data": {
            "text/plain": [
              "<matplotlib.axes._subplots.AxesSubplot at 0x7f0c8e569dd8>"
            ]
          },
          "metadata": {
            "tags": []
          },
          "execution_count": 23
        },
        {
          "output_type": "display_data",
          "data": {
            "image/png": "[encoded data removed]",
            "text/plain": [
              "<Figure size 432x288 with 2 Axes>"
            ]
          },
          "metadata": {
            "tags": []
          }
        }
      ]
    },
    {
      "cell_type": "markdown",
      "metadata": {
        "id": "GRZQsX6HnSMe",
        "colab_type": "text"
      },
      "source": [
        "scatter plot"
      ]
    },
    {
      "cell_type": "code",
      "metadata": {
        "id": "TfF7UcoWnVJd",
        "colab_type": "code",
        "colab": {
          "base_uri": "https://localhost:8080/",
          "height": 282
        },
        "outputId": "157f0ef3-4f3a-4f1a-94fb-a196fb839054"
      },
      "source": [
        "import matplotlib.pyplot as plt\n",
        "import pandas as pd\n",
        "import seaborn as sns \n",
        "import numpy as np\n",
        "m=wine[\"price\"]\n",
        "n=wine[\"points\"]\n",
        "plt.scatter(m,n)\n"
      ],
      "execution_count": 27,
      "outputs": [
        {
          "output_type": "execute_result",
          "data": {
            "text/plain": [
              "<matplotlib.collections.PathCollection at 0x7f0c8a7b3be0>"
            ]
          },
          "metadata": {
            "tags": []
          },
          "execution_count": 27
        },
        {
          "output_type": "display_data",
          "data": {
            "image/png": "[encoded data removed]",
            "text/plain": [
              "<Figure size 432x288 with 1 Axes>"
            ]
          },
          "metadata": {
            "tags": []
          }
        }
      ]
    },
    {
      "cell_type": "code",
      "metadata": {
        "id": "TJ93WXNnnp6h",
        "colab_type": "code",
        "colab": {
          "base_uri": "https://localhost:8080/",
          "height": 1000
        },
        "outputId": "8f5fcdbe-7369-496d-dae6-2678d580722d"
      },
      "source": [
        "pd.DataFrame(wine)"
      ],
      "execution_count": 28,
      "outputs": [
        {
          "output_type": "execute_result",
          "data": {
            "text/html": [
              "<div>\n",
              "<style scoped>\n",
              "    .dataframe tbody tr th:only-of-type {\n",
              "        vertical-align: middle;\n",
              "    }\n",
              "\n",
              "    .dataframe tbody tr th {\n",
              "        vertical-align: top;\n",
              "    }\n",
              "\n",
              "    .dataframe thead th {\n",
              "        text-align: right;\n",
              "    }\n",
              "</style>\n",
              "<table border=\"1\" class=\"dataframe\">\n",
              "  <thead>\n",
              "    <tr style=\"text-align: right;\">\n",
              "      <th></th>\n",
              "      <th>Unnamed: 0</th>\n",
              "      <th>country</th>\n",
              "      <th>description</th>\n",
              "      <th>designation</th>\n",
              "      <th>points</th>\n",
              "      <th>price</th>\n",
              "      <th>province</th>\n",
              "      <th>region_1</th>\n",
              "      <th>region_2</th>\n",
              "      <th>taster_name</th>\n",
              "      <th>taster_twitter_handle</th>\n",
              "      <th>title</th>\n",
              "      <th>variety</th>\n",
              "      <th>winery</th>\n",
              "    </tr>\n",
              "  </thead>\n",
              "  <tbody>\n",
              "    <tr>\n",
              "      <th>0</th>\n",
              "      <td>0</td>\n",
              "      <td>Italy</td>\n",
              "      <td>Aromas include tropical fruit, broom, brimston...</td>\n",
              "      <td>Vulkà Bianco</td>\n",
              "      <td>87</td>\n",
              "      <td>NaN</td>\n",
              "      <td>Sicily &amp; Sardinia</td>\n",
              "      <td>Etna</td>\n",
              "      <td>NaN</td>\n",
              "      <td>Kerin O’Keefe</td>\n",
              "      <td>@kerinokeefe</td>\n",
              "      <td>Nicosia 2013 Vulkà Bianco  (Etna)</td>\n",
              "      <td>White Blend</td>\n",
              "      <td>Nicosia</td>\n",
              "    </tr>\n",
              "    <tr>\n",
              "      <th>1</th>\n",
              "      <td>1</td>\n",
              "      <td>Portugal</td>\n",
              "      <td>This is ripe and fruity, a wine that is smooth...</td>\n",
              "      <td>Avidagos</td>\n",
              "      <td>87</td>\n",
              "      <td>15.0</td>\n",
              "      <td>Douro</td>\n",
              "      <td>NaN</td>\n",
              "      <td>NaN</td>\n",
              "      <td>Roger Voss</td>\n",
              "      <td>@vossroger</td>\n",
              "      <td>Quinta dos Avidagos 2011 Avidagos Red (Douro)</td>\n",
              "      <td>Portuguese Red</td>\n",
              "      <td>Quinta dos Avidagos</td>\n",
              "    </tr>\n",
              "    <tr>\n",
              "      <th>2</th>\n",
              "      <td>2</td>\n",
              "      <td>US</td>\n",
              "      <td>Tart and snappy, the flavors of lime flesh and...</td>\n",
              "      <td>NaN</td>\n",
              "      <td>87</td>\n",
              "      <td>14.0</td>\n",
              "      <td>Oregon</td>\n",
              "      <td>Willamette Valley</td>\n",
              "      <td>Willamette Valley</td>\n",
              "      <td>Paul Gregutt</td>\n",
              "      <td>@paulgwine</td>\n",
              "      <td>Rainstorm 2013 Pinot Gris (Willamette Valley)</td>\n",
              "      <td>Pinot Gris</td>\n",
              "      <td>Rainstorm</td>\n",
              "    </tr>\n",
              "    <tr>\n",
              "      <th>3</th>\n",
              "      <td>3</td>\n",
              "      <td>US</td>\n",
              "      <td>Pineapple rind, lemon pith and orange blossom ...</td>\n",
              "      <td>Reserve Late Harvest</td>\n",
              "      <td>87</td>\n",
              "      <td>13.0</td>\n",
              "      <td>Michigan</td>\n",
              "      <td>Lake Michigan Shore</td>\n",
              "      <td>NaN</td>\n",
              "      <td>Alexander Peartree</td>\n",
              "      <td>NaN</td>\n",
              "      <td>St. Julian 2013 Reserve Late Harvest Riesling ...</td>\n",
              "      <td>Riesling</td>\n",
              "      <td>St. Julian</td>\n",
              "    </tr>\n",
              "    <tr>\n",
              "      <th>4</th>\n",
              "      <td>4</td>\n",
              "      <td>US</td>\n",
              "      <td>Much like the regular bottling from 2012, this...</td>\n",
              "      <td>Vintner's Reserve Wild Child Block</td>\n",
              "      <td>87</td>\n",
              "      <td>65.0</td>\n",
              "      <td>Oregon</td>\n",
              "      <td>Willamette Valley</td>\n",
              "      <td>Willamette Valley</td>\n",
              "      <td>Paul Gregutt</td>\n",
              "      <td>@paulgwine</td>\n",
              "      <td>Sweet Cheeks 2012 Vintner's Reserve Wild Child...</td>\n",
              "      <td>Pinot Noir</td>\n",
              "      <td>Sweet Cheeks</td>\n",
              "    </tr>\n",
              "    <tr>\n",
              "      <th>...</th>\n",
              "      <td>...</td>\n",
              "      <td>...</td>\n",
              "      <td>...</td>\n",
              "      <td>...</td>\n",
              "      <td>...</td>\n",
              "      <td>...</td>\n",
              "      <td>...</td>\n",
              "      <td>...</td>\n",
              "      <td>...</td>\n",
              "      <td>...</td>\n",
              "      <td>...</td>\n",
              "      <td>...</td>\n",
              "      <td>...</td>\n",
              "      <td>...</td>\n",
              "    </tr>\n",
              "    <tr>\n",
              "      <th>129966</th>\n",
              "      <td>129966</td>\n",
              "      <td>Germany</td>\n",
              "      <td>Notes of honeysuckle and cantaloupe sweeten th...</td>\n",
              "      <td>Brauneberger Juffer-Sonnenuhr Spätlese</td>\n",
              "      <td>90</td>\n",
              "      <td>28.0</td>\n",
              "      <td>Mosel</td>\n",
              "      <td>NaN</td>\n",
              "      <td>NaN</td>\n",
              "      <td>Anna Lee C. Iijima</td>\n",
              "      <td>NaN</td>\n",
              "      <td>Dr. H. Thanisch (Erben Müller-Burggraef) 2013 ...</td>\n",
              "      <td>Riesling</td>\n",
              "      <td>Dr. H. Thanisch (Erben Müller-Burggraef)</td>\n",
              "    </tr>\n",
              "    <tr>\n",
              "      <th>129967</th>\n",
              "      <td>129967</td>\n",
              "      <td>US</td>\n",
              "      <td>Citation is given as much as a decade of bottl...</td>\n",
              "      <td>NaN</td>\n",
              "      <td>90</td>\n",
              "      <td>75.0</td>\n",
              "      <td>Oregon</td>\n",
              "      <td>Oregon</td>\n",
              "      <td>Oregon Other</td>\n",
              "      <td>Paul Gregutt</td>\n",
              "      <td>@paulgwine</td>\n",
              "      <td>Citation 2004 Pinot Noir (Oregon)</td>\n",
              "      <td>Pinot Noir</td>\n",
              "      <td>Citation</td>\n",
              "    </tr>\n",
              "    <tr>\n",
              "      <th>129968</th>\n",
              "      <td>129968</td>\n",
              "      <td>France</td>\n",
              "      <td>Well-drained gravel soil gives this wine its c...</td>\n",
              "      <td>Kritt</td>\n",
              "      <td>90</td>\n",
              "      <td>30.0</td>\n",
              "      <td>Alsace</td>\n",
              "      <td>Alsace</td>\n",
              "      <td>NaN</td>\n",
              "      <td>Roger Voss</td>\n",
              "      <td>@vossroger</td>\n",
              "      <td>Domaine Gresser 2013 Kritt Gewurztraminer (Als...</td>\n",
              "      <td>Gewürztraminer</td>\n",
              "      <td>Domaine Gresser</td>\n",
              "    </tr>\n",
              "    <tr>\n",
              "      <th>129969</th>\n",
              "      <td>129969</td>\n",
              "      <td>France</td>\n",
              "      <td>A dry style of Pinot Gris, this is crisp with ...</td>\n",
              "      <td>NaN</td>\n",
              "      <td>90</td>\n",
              "      <td>32.0</td>\n",
              "      <td>Alsace</td>\n",
              "      <td>Alsace</td>\n",
              "      <td>NaN</td>\n",
              "      <td>Roger Voss</td>\n",
              "      <td>@vossroger</td>\n",
              "      <td>Domaine Marcel Deiss 2012 Pinot Gris (Alsace)</td>\n",
              "      <td>Pinot Gris</td>\n",
              "      <td>Domaine Marcel Deiss</td>\n",
              "    </tr>\n",
              "    <tr>\n",
              "      <th>129970</th>\n",
              "      <td>129970</td>\n",
              "      <td>France</td>\n",
              "      <td>Big, rich and off-dry, this is powered by inte...</td>\n",
              "      <td>Lieu-dit Harth Cuvée Caroline</td>\n",
              "      <td>90</td>\n",
              "      <td>21.0</td>\n",
              "      <td>Alsace</td>\n",
              "      <td>Alsace</td>\n",
              "      <td>NaN</td>\n",
              "      <td>Roger Voss</td>\n",
              "      <td>@vossroger</td>\n",
              "      <td>Domaine Schoffit 2012 Lieu-dit Harth Cuvée Car...</td>\n",
              "      <td>Gewürztraminer</td>\n",
              "      <td>Domaine Schoffit</td>\n",
              "    </tr>\n",
              "  </tbody>\n",
              "</table>\n",
              "<p>129971 rows × 14 columns</p>\n",
              "</div>"
            ],
            "text/plain": [
              "        Unnamed: 0  ...                                    winery\n",
              "0                0  ...                                   Nicosia\n",
              "1                1  ...                       Quinta dos Avidagos\n",
              "2                2  ...                                 Rainstorm\n",
              "3                3  ...                                St. Julian\n",
              "4                4  ...                              Sweet Cheeks\n",
              "...            ...  ...                                       ...\n",
              "129966      129966  ...  Dr. H. Thanisch (Erben Müller-Burggraef)\n",
              "129967      129967  ...                                  Citation\n",
              "129968      129968  ...                           Domaine Gresser\n",
              "129969      129969  ...                      Domaine Marcel Deiss\n",
              "129970      129970  ...                          Domaine Schoffit\n",
              "\n",
              "[129971 rows x 14 columns]"
            ]
          },
          "metadata": {
            "tags": []
          },
          "execution_count": 28
        }
      ]
    },
    {
      "cell_type": "markdown",
      "metadata": {
        "id": "AzuwlJi7pJfn",
        "colab_type": "text"
      },
      "source": [
        "**ANSWERS WE GOT FROM THE DATA**\n",
        "\n",
        "**1.WHAT ARE THE DATATYPES IN DATA?**\n",
        "\n",
        "**2.ARE NAN VALUES ARE PRESENT IN EACH COLOUMN?**\n",
        "\n",
        "**3.CAN I PLOT A HISTOGRAM WITH A COLOUMNS IN THE DATA?**\n",
        "\n",
        "**4.WHAT ARE THE DIFFERENT PACKAGES IMPORTED ?**\n",
        "\n",
        "**5.WHAT IS THE SIZE OF DATA SET?**\n",
        "\n",
        "**6.HOW THE THE DATA ANALYZATION IS PROCEDEED?**"
      ]
    },
    {
      "cell_type": "code",
      "metadata": {
        "id": "3Jbw_8qxqFmG",
        "colab_type": "code",
        "colab": {
          "base_uri": "https://localhost:8080/",
          "height": 272
        },
        "outputId": "b18e9e4f-8d51-400a-e761-47f34d64d31a"
      },
      "source": [
        "#1.ANSWER\n",
        "## .dtypes gives data types for each column\n",
        "print(wine.dtypes)                           # str() in R - Data types"
      ],
      "execution_count": 29,
      "outputs": [
        {
          "output_type": "stream",
          "text": [
            "Unnamed: 0                 int64\n",
            "country                   object\n",
            "description               object\n",
            "designation               object\n",
            "points                     int64\n",
            "price                    float64\n",
            "province                  object\n",
            "region_1                  object\n",
            "region_2                  object\n",
            "taster_name               object\n",
            "taster_twitter_handle     object\n",
            "title                     object\n",
            "variety                   object\n",
            "winery                    object\n",
            "dtype: object\n"
          ],
          "name": "stdout"
        }
      ]
    },
    {
      "cell_type": "markdown",
      "metadata": {
        "id": "tvIo6T2ZqRAr",
        "colab_type": "text"
      },
      "source": [
        "2.NAN VALUES ARE NOT PRESENT IN MY DATA I RUN SOME CODES IN \"HANDLING NA CELL\""
      ]
    },
    {
      "cell_type": "markdown",
      "metadata": {
        "id": "MUZdjNMNqUSQ",
        "colab_type": "text"
      },
      "source": [
        "3.YES I PLOTTED THE HISTOGRAM FOR THE DATASET"
      ]
    },
    {
      "cell_type": "markdown",
      "metadata": {
        "id": "hAkrH6_UqZZg",
        "colab_type": "text"
      },
      "source": [
        "4.NUMPY,MATPLOTLIB,SEABORN,PANDAS"
      ]
    },
    {
      "cell_type": "code",
      "metadata": {
        "id": "9HK1V_EgqgsQ",
        "colab_type": "code",
        "colab": {
          "base_uri": "https://localhost:8080/",
          "height": 34
        },
        "outputId": "549e10e7-8420-41a5-d5c7-c224ad792b1c"
      },
      "source": [
        "#5.ANSWER\n",
        "wine.size"
      ],
      "execution_count": 30,
      "outputs": [
        {
          "output_type": "execute_result",
          "data": {
            "text/plain": [
              "1819594"
            ]
          },
          "metadata": {
            "tags": []
          },
          "execution_count": 30
        }
      ]
    },
    {
      "cell_type": "markdown",
      "metadata": {
        "id": "4SKqrMPuqqpe",
        "colab_type": "text"
      },
      "source": [
        "6.-PRELIMINARY DATA ANALYSIS\n",
        "\n",
        "DATA INSPECTION\n",
        "\n",
        "DATA TYPES\n",
        "\n",
        "CENTERAL TENDENCY\n",
        "\n",
        "VARIANCE\n",
        "\n",
        "ABOUT THE DISTRIBUTION\n",
        "\n",
        "GRAPHS AND CORRELATION\n",
        "\n",
        "HANDLING NA VALUES"
      ]
    },
    {
      "cell_type": "markdown",
      "metadata": {
        "id": "CDHHji41qs_b",
        "colab_type": "text"
      },
      "source": [
        "CONCLUSION\n",
        "FROM THE DATA EXPLORATORY ANALYSIS WE LEARNT HOW TO ACCESS THE DATA WE WABT SO THAT WE CAN ANALYZE THAT.WE CAN INTERPRET AND UNDERSTAND EVEN THE HUGE DATA THROUGH THE DATA VIZUALIZATION.\n",
        "\n",
        "OUR ANALYSIS WILL BE USEFU FOR FUTURE PREDICTIONS.MOREOVER,WE GAIN SOME OF THE BASIC KNOWLEDGE OF OLYMPICS DATA . WEGOT TO KNOW THE POWER OF DATA VIZUALIZATION AND ANALYZATION."
      ]
    }
  ]
}